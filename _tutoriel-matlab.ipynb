{
 "cells": [
  {
   "cell_type": "markdown",
   "metadata": {},
   "source": [
    "[PC7ITSMO](https://moodle.bordeaux-inp.fr/course/view.php?id=4&section=1) - [PC7TPITS](https://moodle.bordeaux-inp.fr/course/view.php?id=4&section=2) Instrumentation, Traitement du Signal, et Modélisation $\\bullet$ [PC8MCPRO](https://moodle.bordeaux-inp.fr/course/view.php?id=4&section=3) - [PC8TPMCP](https://moodle.bordeaux-inp.fr/course/view.php?id=4&section=4) Modélisation et Conduite de Procédés $\\bullet$ ENSCBP - Bordeaux INP $\\bullet$ [Nicolas Régnier](mailto:nicolas.regnier@enscbp.fr)\n",
    "***\n",
    "<br>"
   ]
  },
  {
   "cell_type": "markdown",
   "metadata": {},
   "source": [
    "# Tutoriel Matlab / Octave\n",
    "\n",
    "Ce document présente les concepts de base du langage Matlab / Octave sous forme d'exemples interactifs. \n",
    "\n",
    "- Lisez les explications et exécutez chaque cellule de code pour afficher les résultats des exemples proposés. \n",
    "- Vous pouvez expérimenter vous-même en modifiant chaque exemple à votre guise (pour conserver la \"version originale\", vous pouvez commencer par dupliquer une cellule exemple avant de la modifier).\n",
    "- Si vous avez besoin d'aide pour utiliser ce Notebook Jupyter $\\rightarrow$ consultez le [Tutoriel Jupyter](_tutoriel-jupyter.ipynb).\n",
    "\n",
    "## Sommaire\n",
    "\n",
    "- [Réaliser des calculs simples et manipuler des variables](#Réaliser-des-calculs-simples-et-manipuler-des-variables)\n",
    "- [Afficher des résultats](#Afficher-des-résultats)\n",
    "- [Créer et manipuler des matrices](#Créer-et-manipuler-des-matrices)\n",
    "- [Réaliser des calculs sur des matrices](#Réaliser-des-calculs-sur-des-matrices)\n",
    "- [Utiliser des fonctions](#Utiliser-des-fonctions)\n",
    "- [Tracer des graphiques](#Tracer-des-graphiques)"
   ]
  },
  {
   "cell_type": "markdown",
   "metadata": {},
   "source": [
    "# Réaliser des calculs simples et manipuler des variables\n",
    "<a id=’calculs_simples’></a>\n",
    "\n",
    "Pour réaliser des calculs simples, la syntaxe correspond autant que possible à l’écriture mathématique. Les opérateurs de base sont : `+`, `-`, `*`, `/`, `^` (élévation à la puissance), que vous pouvez combiner de manière aussi complexe que nécessaire grâce aux parenthèses `()`. Exécutez la cellule de code ci-dessous (bouton `Run`![Image](images/run.png) en haut de cette page)."
   ]
  },
  {
   "cell_type": "code",
   "execution_count": null,
   "metadata": {},
   "outputs": [],
   "source": [
    "% Exemple de calcul simple\n",
    "10*(3-2.5/9)"
   ]
  },
  {
   "cell_type": "markdown",
   "metadata": {},
   "source": [
    "Le résultat du calcul apparaît en dessous de la cellule contenant le code.\n",
    "\n",
    "Une variable nommée `ans` (pour answer) est automatiquement créée pour stocker le résultat, car il n'a pas été *explicitement* affecté à une variable nommée dans le code. "
   ]
  },
  {
   "cell_type": "code",
   "execution_count": null,
   "metadata": {},
   "outputs": [],
   "source": [
    "% Exemple de calcul simple avec affectation du résultat à une variable nommée\n",
    "a = 10*(3-2.5/9)"
   ]
  },
  {
   "cell_type": "markdown",
   "metadata": {},
   "source": [
    "Le résultat du calcul est cette fois affecté à la variable `a`.\n",
    "\n",
    "Le signe égal `=` est l’opérateur d’affectation. Il signifie : évaluer l’expression à droite du signe, puis placer le résultat dans la variable dont le nom est à gauche du signe. \n",
    "\n",
    "Si cette variable n’existe pas encore, elle est créée automatiquement ; si cette variable existe déjà, sa valeur est remplacée (écrasée) par le nouveau résultat.\n",
    "\n",
    "L’intérêt d’une affectation est qu’il sera facile par la suite de réutiliser la valeur de la variable (`a` dans cet exemple) dans un autre calcul. C’est indispensable pour un traitement complexe qui peut faire intervenir des dizaines de calculs intermédiaires, qu’on affectera alors à autant de variables. "
   ]
  },
  {
   "cell_type": "code",
   "execution_count": null,
   "metadata": {},
   "outputs": [],
   "source": [
    "% Exemple de calcul simple faisant intervenir une variable\n",
    "b = 2*a"
   ]
  },
  {
   "cell_type": "markdown",
   "metadata": {},
   "source": [
    "La valeur de la variable `a` a été utilisée pour réaliser le calcul, et le résultat a été affecté à la variable `b`.\n",
    "\n",
    "Chaque variable créée possède une dimension (nombre de lignes et de colonnes pour une matrice) et un type (contenu réel, complexe, texte, etc.)."
   ]
  },
  {
   "cell_type": "code",
   "execution_count": null,
   "metadata": {},
   "outputs": [],
   "source": [
    "% Affichage de la liste des variables\n",
    "whos"
   ]
  },
  {
   "cell_type": "markdown",
   "metadata": {},
   "source": [
    "Toutes les variables existantes sont listées avec leur noms `Name`, leurs dimensions `Size` (`1x1` signifie : une ligne et une colonne, donc un scalaire), et leurs types `Class` (`double` signifie : valeurs réelles stockées sur 8 octets, ce qui définit leur précision).\n",
    "\n",
    "Vous pouvez créer autant de variables que vous le souhaitez, avec des noms quelconques ou presque : ils doivent commencer par une lettre (pas un chiffre), ne pas contenir d'espaces ou de signes opérateurs (`+-*/^()`), et surtout *pas de caractères accentués* ou autres signes diacritiques ! Mais pensez que vous devrez un jour relire vos programmes, et donnez des noms suffisamment explicites à vos variables (ce qui n’est pas le cas de `a` et `b`).\n",
    "\n",
    "Les noms des variables sont sensibles à la casse, c'est-à-dire aux différences majuscules/minuscules : une variable nommée `vitesse` est différente d'une variable nommée `Vitesse`. Autrement dit elles peuvent coexister et avoir des valeurs différentes."
   ]
  },
  {
   "cell_type": "markdown",
   "metadata": {},
   "source": [
    "Vous pouvez supprimer des variables à l’aide de la commande `clear` : à utiliser seule pour supprimer toutes les variables, ou suivie d'un nom de variable pour ne supprimer que celle-ci. "
   ]
  },
  {
   "cell_type": "code",
   "execution_count": null,
   "metadata": {},
   "outputs": [],
   "source": [
    "% Suppression d'une variable\n",
    "clear b\n",
    "whos"
   ]
  },
  {
   "cell_type": "markdown",
   "metadata": {},
   "source": [
    "La variable `b` a été supprimée (vous pouvez la recréer en exécutant à nouveau le code d'une cellule qui lui affecte un résultat)."
   ]
  },
  {
   "cell_type": "markdown",
   "metadata": {},
   "source": [
    "# Afficher des résultats\n",
    "\n",
    "Dans les exemples précédents, les résultats des calculs ont été affichés automatiquement en-dessous des cellules de code. Ceci peut être souhaitable et voulu, mais peut aussi devenir très gênant s'il y a de nombreux calculs intermédiaires générant autant de lignes de résultat.\n",
    "\n",
    "Pour éviter cela, il suffit d'ajouter un point-virgule `;` à la fin d'une ligne : le calcul et l'affectation sont réalisés normalement, mais le résultat n'est pas affiché."
   ]
  },
  {
   "cell_type": "code",
   "execution_count": null,
   "metadata": {},
   "outputs": [],
   "source": [
    "% Utilisation d'un point-virgule pour supprimer l'affichage d'un résultat\n",
    "c = 2/3;"
   ]
  },
  {
   "cell_type": "markdown",
   "metadata": {},
   "source": [
    "Aucun résultat n'est affiché, mais le calcul a bien été réalisé et affecté à la variable `c`.\n",
    "\n",
    "Pour afficher la valeur d'une variable *après* le calcul, il suffit d'écrire son nom seul."
   ]
  },
  {
   "cell_type": "code",
   "execution_count": null,
   "metadata": {},
   "outputs": [],
   "source": [
    "% Affichage de la valeur d'une variable\n",
    "c"
   ]
  },
  {
   "cell_type": "markdown",
   "metadata": {},
   "source": [
    "La valeur de la variable `c` est affiché.\n",
    "\n",
    "Par défaut, le format d'affichage est de 5 chiffres significatifs.\n",
    "\n",
    "Vous pouvez changer le format d'affichage (et donc le nombre de chiffres significatifs affichés) à l'aide de la commande `format`."
   ]
  },
  {
   "cell_type": "code",
   "execution_count": null,
   "metadata": {},
   "outputs": [],
   "source": [
    "% Affichage de la valeur d'une variable dans un autre format\n",
    "format long\n",
    "c"
   ]
  },
  {
   "cell_type": "markdown",
   "metadata": {},
   "source": [
    "La valeur de la variable est affichée avec 15 chiffres significatifs.\n",
    "\n",
    "Pour revenir au format d'affichage par défaut, utilisez la commande `format` seule."
   ]
  },
  {
   "cell_type": "code",
   "execution_count": null,
   "metadata": {},
   "outputs": [],
   "source": [
    "% Affichage de la valeur d'une variable dans le format par défaut\n",
    "format\n",
    "c"
   ]
  },
  {
   "cell_type": "markdown",
   "metadata": {},
   "source": [
    "> Il est important de comprendre que les résultats numériques non-entiers sont toujours affichés sous forme arrondie (même en format `long`), et qu'ils sont en réalité stockés avec une plus grande précision dans les variables. Le corolaire est qu'**il ne faut jamais recopier les valeurs numériques affichées pour les utiliser dans un calcul**, puisqu'elles sont arrondies, mais toujours faire appel aux variables qui contiennent ces valeurs numériques avec une bien plus grande précision. Sinon, vous propagez les erreurs d'arrondis de calculs en calculs, ce qui peut conduire à des résultats erronés.\n",
    "\n",
    "Il existe de nombreux autres formats d'affichage disponibles, par exemple en notation avec exposant. Écrivez `help format` dans une cellule et exécutez-la pour afficher les différentes options.\n",
    "\n",
    "Il est possible de gérer complètement l'affichage d'une valeur, par exemple pour qu'elle soit incluse dans une phrase, associée à une unité, etc. On utilise en général dans ce cas la fonction `printf` qui permet de formater une chaîne de caractères incluant texte et valeurs numériques."
   ]
  },
  {
   "cell_type": "code",
   "execution_count": null,
   "metadata": {},
   "outputs": [],
   "source": [
    "% Exemple d'affichage formaté d'une valeur \n",
    "printf(\"La vitesse est égale à %.3f m/s\", c)"
   ]
  },
  {
   "cell_type": "markdown",
   "metadata": {},
   "source": [
    "Dans cet exemple, `\"La vitesse est égale à %.3f m/s\"` est une chaîne de format. Elle contient le descripteur de format `%.3f` qui sera remplacé par la valeur de la variable `c`. Un descripteur de format commence toujours par le signe `%`. Ici `f` signifie \"float\", c'est-à-dire valeur réelle, et `.3` signifie 3 chiffres après la virgule.\n",
    "\n",
    "La description de la syntaxe de la fonction `printf` et des descripteurs de format dépasse le cadre de ce tutoriel, mais vous pouvez vous inspirer de cet exemple."
   ]
  },
  {
   "cell_type": "markdown",
   "metadata": {},
   "source": [
    "# Créer et manipuler des matrices\n",
    "\n",
    "Dans les exemples précédents vous avez créé des scalaires nommés `a`, `b`, ou `c`, qui ne sont rien d’autre que des matrices `1x1` à une ligne et une colonne.\n",
    "\n",
    "Nous allons maintenant **créer des matrices** de dimensions supérieures et les manipuler."
   ]
  },
  {
   "cell_type": "code",
   "execution_count": null,
   "metadata": {},
   "outputs": [],
   "source": [
    "% Exemple de création d'une matrice\n",
    "x = [1 2 3 ; 4 5 6]"
   ]
  },
  {
   "cell_type": "markdown",
   "metadata": {},
   "source": [
    "Les crochets `[]` indiquent la création d’une matrice. Le point-virgule `;` signifie : ligne suivante. L’espace ` ` ou la virgule `,` (équivalents dans ce contexte) signifient : colonne\n",
    "suivante. La dimension de la matrice `x` est donc `2x3` (2 lignes et 3 colonnes). Vous pouvez utiliser la commande `whos` pour le vérifier.\n",
    "\n",
    "La fonction `size` permet également de déterminer la dimension d'une matrice."
   ]
  },
  {
   "cell_type": "code",
   "execution_count": null,
   "metadata": {},
   "outputs": [],
   "source": [
    "% Détermination de la dimension d'une matrice\n",
    "size(x)"
   ]
  },
  {
   "cell_type": "markdown",
   "metadata": {},
   "source": [
    "À l’aide de ces notations, vous pouvez tout aussi facilement créer des vecteurs (c’est-à-dire des matrices à une seule ligne ou une seule colonne). "
   ]
  },
  {
   "cell_type": "code",
   "execution_count": null,
   "metadata": {},
   "outputs": [],
   "source": [
    "% Exemples de création de vecteur ligne et colonne\n",
    "y = [1 2 3]\n",
    "z = [4; 5; 6] "
   ]
  },
  {
   "cell_type": "markdown",
   "metadata": {},
   "source": [
    "La fonction `size` fonctionne bien entendu pour les vecteurs, mais il est également possible de déterminer leur longueur avec la fonction `length`. Celle-ci renvoie la plus\n",
    "grande taille parmi toutes les dimensions, que la variable soit un vecteur ou une matrice."
   ]
  },
  {
   "cell_type": "code",
   "execution_count": null,
   "metadata": {},
   "outputs": [],
   "source": [
    "% Exemples de détermination de tailles de vecteurs\n",
    "size(y)\n",
    "length(y)\n",
    "size(z)\n",
    "length(z)"
   ]
  },
  {
   "cell_type": "markdown",
   "metadata": {},
   "source": [
    "Les crochets `[]` permettent de créer des matrices quelconques. Mais il est également possible de générer des matrices spéciales à l'aide de diverses fonctions, en particulier :\n",
    "- matrices remplies de zéros grâce à la fonction `zeros`, \n",
    "- matrices remplies de uns grâce à la fonction `ones`, \n",
    "- matrices identités grâce à la fonction `eye`,\n",
    "- matrices diagonales grâce à la fonction `diag`."
   ]
  },
  {
   "cell_type": "code",
   "execution_count": null,
   "metadata": {},
   "outputs": [],
   "source": [
    "% Exemples de création de matrices spéciales\n",
    "z = zeros(3,4)\n",
    "o = ones(2,2)\n",
    "e = eye(3,3)\n",
    "d = diag([1 2 3])"
   ]
  },
  {
   "cell_type": "markdown",
   "metadata": {},
   "source": [
    "Les deux chiffres entre parenthèses représentent les nombres de lignes et de colonnes, sauf pour la fonction `diag` qui reçoit le vecteur des valeurs à placer sur la diagonale (`diag([1 1 1])` est donc équivalent à `eye(3,3)`)."
   ]
  },
  {
   "cell_type": "markdown",
   "metadata": {},
   "source": [
    "Il est souvent utile de créer des vecteurs dont les éléments suivent une progression arithmétique entre deux bornes. On utilise pour cela l’opérateur deux-points `:`, dont la forme générale est `start:step:end`. Si `step` est omis, il est supposé égal à un."
   ]
  },
  {
   "cell_type": "code",
   "execution_count": null,
   "metadata": {},
   "outputs": [],
   "source": [
    "% Exemples de création de vecteurs de valeurs linéairement réparties à l'aide de l'opérateur \":\"\n",
    "t = 1:5\n",
    "u = 0:2:10 \n",
    "v = 12:-0.5:11 "
   ]
  },
  {
   "cell_type": "markdown",
   "metadata": {},
   "source": [
    "La fonction `linspace(start,end,number)` permet également de créer ce type de suite, mais en précisant le nombre de valeurs `number` et non le pas `step`."
   ]
  },
  {
   "cell_type": "code",
   "execution_count": null,
   "metadata": {},
   "outputs": [],
   "source": [
    "% Exemple de création d'un vecteur de valeurs linéairement réparties à l'aide de la fonction linspace\n",
    "u = linspace(0,10,6) "
   ]
  },
  {
   "cell_type": "markdown",
   "metadata": {},
   "source": [
    "Toutes ces expressions créent des vecteurs lignes. \n",
    "\n",
    "Pour transposer un vecteur ou une matrice, utilisez l'opérateur apostrophe `'`."
   ]
  },
  {
   "cell_type": "code",
   "execution_count": null,
   "metadata": {},
   "outputs": [],
   "source": [
    "% Exemples de transposition de vecteurs et de matrices\n",
    "utranspose = u'\n",
    "xtranspose = [1 2 3 ; 4 5 6]'"
   ]
  },
  {
   "cell_type": "markdown",
   "metadata": {},
   "source": [
    "Pour **extraire un élément ou une partie d'une matrice**, écrivez son nom suivi de parenthèses et des indices de ligne et de colonne, séparés par une virgule."
   ]
  },
  {
   "cell_type": "code",
   "execution_count": null,
   "metadata": {},
   "outputs": [],
   "source": [
    "% Exemple d'accès à un élément d'une matrice\n",
    "x = [1 2 3 ; 4 5 6];\n",
    "item = x(2,3) "
   ]
  },
  {
   "cell_type": "markdown",
   "metadata": {},
   "source": [
    "Dans le cas d'un vecteur, puisqu'il n'y a qu'une dimension, il suffit de fournir un seul indice (peu importe que le vecteur soit en ligne ou en colonne). "
   ]
  },
  {
   "cell_type": "code",
   "execution_count": null,
   "metadata": {},
   "outputs": [],
   "source": [
    "% Exemple d'accès à un élément d'un vecteur\n",
    "item = u(3)\n",
    "item = utranspose(3)"
   ]
  },
  {
   "cell_type": "markdown",
   "metadata": {},
   "source": [
    "Pour accéder à une colonne ou à une ligne complète, on utilise l’opérateur deux-points `:` à la place d'un des indices. Il signifie alors, selon sa position : \"toutes les lignes\", ou \"toutes les colonnes\". Le résultat est donc respectivement un vecteur colonne ou un vecteur ligne."
   ]
  },
  {
   "cell_type": "code",
   "execution_count": null,
   "metadata": {},
   "outputs": [],
   "source": [
    "% Exemple d'extraction de ligne ou de colonne d'une matrice\n",
    "column = x(:,3)\n",
    "line = x(1,:)"
   ]
  },
  {
   "cell_type": "markdown",
   "metadata": {},
   "source": [
    "L'opérateur deux-points `:` peut également être utilisé pour indiquer une série d'indices dans un vecteur ou une matrice. "
   ]
  },
  {
   "cell_type": "code",
   "execution_count": null,
   "metadata": {},
   "outputs": [],
   "source": [
    "% Exemple d'extraction d'une série d'éléments d'un vecteur\n",
    "u2 = u(3:5)"
   ]
  },
  {
   "cell_type": "markdown",
   "metadata": {},
   "source": [
    "Dans cet exemple, l'expression `3:5` crée le vecteur d'indices `[3 4 5]`. Ce sont donc les éléments du vecteur `u` correspondants à ces indices qui sont retournés.\n",
    "\n",
    "Il existe également un mot-clé spécial `end` qui est un raccourci pour l'indice du dernier élément selon une dimension (il ne peut être utilisé que dans ce contexte). "
   ]
  },
  {
   "cell_type": "code",
   "execution_count": null,
   "metadata": {},
   "outputs": [],
   "source": [
    "% Exemple d'extraction d'une série d'éléments d'un vecteur en utilisant le mot-clé \"end\"\n",
    "u3 = u(3:end)\n",
    "u2 = u(3:end-1)"
   ]
  },
  {
   "cell_type": "markdown",
   "metadata": {},
   "source": [
    "Toutes ces notations peuvent être combinées pour réaliser des extractions de sous-ensembles de matrices."
   ]
  },
  {
   "cell_type": "code",
   "execution_count": null,
   "metadata": {},
   "outputs": [],
   "source": [
    "% Exemple d'extraction d'un sous-ensemble de matrice en utilisant le mot-clé \"end\" et l'opérateur \":\"\n",
    "x2 = xtranspose(2:end,:)"
   ]
  },
  {
   "cell_type": "markdown",
   "metadata": {},
   "source": [
    "Dans cet exemple, toutes les colonnes de la matrice `xtranspose` à partir de la deuxième ligne jusqu'à la fin sont extraites.\n",
    "\n",
    "Une autre manipulation importante consiste à **concaténer des matrices**, c’est-à-dire à former une matrice par assemblage de matrices plus petites. La concaténation est réalisée à l’aide des\n",
    "opérateurs crochets `[]`, comme pour la création simple d'une matrice à partir d'éléments scalaires.\n"
   ]
  },
  {
   "cell_type": "code",
   "execution_count": null,
   "metadata": {},
   "outputs": [],
   "source": [
    "% Exemples de concaténation de matrices\n",
    "f1 = [e d] \n",
    "f2 = [e ; d] "
   ]
  },
  {
   "cell_type": "markdown",
   "metadata": {},
   "source": [
    "Comme dans le cas d'un vecteur simple, l'espace ` `  ou la virgule `,` correspondent à une concaténation en ligne (`d` est placé à la droite de `e` pour former `f1`), alors que le point-virgule correspond à une concaténation en colonne (`d` est placé en-dessous de `e` pour former `f2`). Bien entendu, ces opérations ne peuvent être réalisées que si les dimensions des matrices concordent.\n",
    "\n",
    "Il existe également de nombreuses fonctions permettant de manipuler des matrices, telles que `rot90` (rotation 90° dans le sens antihoraire), `flipud` (flip upside-down,\n",
    "retournement haut bas), `fliplr`  (flip left-right, retournement gauche-droite), etc. Consultez la documentation si nécessaire."
   ]
  },
  {
   "cell_type": "markdown",
   "metadata": {},
   "source": [
    "Une autre façon courante de créer une matrice consiste à **importer un fichier de données** créé précédemment par un moyen externe, par exemple un appareil de mesure. On utilise pour cela la fonction `load`."
   ]
  },
  {
   "cell_type": "code",
   "execution_count": null,
   "metadata": {},
   "outputs": [],
   "source": [
    "% Exemple d'importation d'un fichier de données (extrait de mesures atmosphériques réalisées par\n",
    "% l’atterrisseur de la sonde \"Viking 1\" sur Mars en 1976, source et crédits : NASA)\n",
    "d = load(\"data/viking1.dat\");\n",
    "size(d)"
   ]
  },
  {
   "cell_type": "markdown",
   "metadata": {},
   "source": [
    "Cet exemple crée une matrice `d` à partir des données lues dans le fichier `viking1.dat` préalablement déposé dans le répertoire `data`. L'argument de la fonction `load` est une chaîne de caractères (entourée de guillemets `\"\"`) qui contient le nom du fichier et son chemin d'accès si nécessaire.\n",
    "\n",
    "Ce fichier est au format texte, il contient 5050 lignes et 4 colonnes de valeurs numériques (valeurs séparées par des tabulations ou des espaces). La matrice `d` créée à donc les mêmes dimensions et peut être manipulée de la même façon qu'une matrice créée différemment."
   ]
  },
  {
   "cell_type": "code",
   "execution_count": null,
   "metadata": {},
   "outputs": [],
   "source": [
    "% Exemple de manipulation d'une matrice créée par importation d'un fichier\n",
    "d(1:5,:)"
   ]
  },
  {
   "cell_type": "markdown",
   "metadata": {},
   "source": [
    "Cet exemple affiche les cinq premières lignes de la matrice, et donc du fichier importé."
   ]
  },
  {
   "cell_type": "markdown",
   "metadata": {},
   "source": [
    "# Réaliser des calculs sur des matrices \n",
    "\n",
    "Les **calculs simples** sur les matrices se réalisent de la même manière que sur les scalaires. Les mêmes opérateurs sont utilisés (`+`, `-`, `*`, `/`, `^`) plus un autre spécifique : l'opérateur apostrophe `'` qui permet de transposer une matrice. "
   ]
  },
  {
   "cell_type": "code",
   "execution_count": null,
   "metadata": {},
   "outputs": [],
   "source": [
    "% Exemples d'opérations simples sur des matrices\n",
    "A = [1 2 3 ; 4 5 6]\n",
    "B = -2*A        % produit d'une matrice par un scalaire\n",
    "op1 = A*B'      % produit de deux matrices (leurs dimensions \"intérieures\" doivent être égales)\n",
    "op2 = A+B       % sommes de deux matrices (leurs dimensions doivent être égales)\n",
    "op3 = (A*B')^2  % carré d'une matrice (elle doit être carrée)\n",
    "op4 = A*B(1,:)' % produit d'une matrice par un vecteur (leurs dimensions \"intérieures\" doivent être égales)"
   ]
  },
  {
   "cell_type": "markdown",
   "metadata": {},
   "source": [
    "La matrice `A` a été multipliée par `-2` pour créer la matrice `B`. Lorsqu'une opération est réalisée entre un scalaire et une matrice, elle est appliquée à tous les éléments de la matrice.\n",
    "\n",
    "Les autres opérations entre matrices ne peuvent être réalisées *que si les dimensions des opérandes concordent*. Par exemple il est possible de calculer `A*B'`, mais pas `A*B`.\n",
    "\n",
    "L'inverse d'une matrice *carrée* peut être calculée en l'élevant à la puissance `-1` ou en utilisant la fonction `inv`."
   ]
  },
  {
   "cell_type": "code",
   "execution_count": null,
   "metadata": {},
   "outputs": [],
   "source": [
    "% Exemples d'inversion d'une matrice carrée\n",
    "(A*B')^-1 \n",
    "inv(A*B')\n",
    "(A*B')*inv(A*B') % vérification : le résultat doit être une matrice identité"
   ]
  },
  {
   "cell_type": "markdown",
   "metadata": {},
   "source": [
    "Diverses fonctions permettent de réaliser des **opérations d’ensemble** sur des matrices ou des vecteurs. Par exemple, les fonctions `sum`, `prod`, et `mean`, calculent respectivement la somme, le produit, et la moyenne des éléments d'un vecteur ou de chaque colonne d’une matrice."
   ]
  },
  {
   "cell_type": "code",
   "execution_count": null,
   "metadata": {},
   "outputs": [],
   "source": [
    "% Exemples d'opérations d'ensembles sur des matrices ou des vecteurs\n",
    "smat = sum(A)      % sommes des éléments de chaque colonne de la matrice\n",
    "svec = sum(A(:,2)) % somme des éléments d'un vecteur (la deuxième colonne de la matrice précédente)\n",
    "p = prod(A)        % produit des éléments de chaque colonne de la matrice\n",
    "m = mean(A)        % moyenne des éléments de chaque colonne de la matrice"
   ]
  },
  {
   "cell_type": "markdown",
   "metadata": {},
   "source": [
    "Il existe d’autres opérations d’ensemble très utiles et qui s’utilisent de la même manière, telles que `min` (minimum), `max` (maximum), `std` (\"standard deviation\" ou écart-type), `var` (variance), etc. "
   ]
  },
  {
   "cell_type": "markdown",
   "metadata": {},
   "source": [
    "Il est également possible de réaliser des **opérations élément par élément** sur des matrices *de taille identique*, en utilisant un opérateur standard précédé par un point `.`. Il ne s’agit donc pas d’opérations matricielles, mais elles sont pratiques dans de nombreux cas."
   ]
  },
  {
   "cell_type": "code",
   "execution_count": null,
   "metadata": {},
   "outputs": [],
   "source": [
    "% Exemples d'opérations éléments par élément sur des matrices\n",
    "op5 = A.*B % multiplication de tous les éléments de la matrice A par les éléments correspondant de la matrice B\n",
    "op6 = A.^2 % élévation au carré de tous les éléments de la matrice A"
   ]
  },
  {
   "cell_type": "markdown",
   "metadata": {},
   "source": [
    "# Utiliser des fonctions\n",
    "\n",
    "Dans les exemples précédents, diverses fonctions ont déjà été utilisées : `size`, `zeros`, `load`, `inv`, etc. D'une façon générale, une fonction possède un nom, reçoit des arguments d'entrée entre parenthèses `()` et séparés par des virgules `,`, et renvoie des arguments de sortie qui sont les résultats que l'on peut affecter à des variables à l'aide de l'opérateur d'affectation `=`. "
   ]
  },
  {
   "cell_type": "code",
   "execution_count": null,
   "metadata": {},
   "outputs": [],
   "source": [
    "% Exemple d'utilisation d'une fonction\n",
    "n = sin(1.3) "
   ]
  },
  {
   "cell_type": "markdown",
   "metadata": {},
   "source": [
    "Dans cet exemple, `1.3` est l'argument d'entrée (en radians) de la fonction `sin`, qui renvoie un argument de sortie (le résultat) affecté à la variable `n`. L'argument d'entrée est donné ici sous forme littérale (c'est-à-dire sous forme d'un nombre), mais aurait aussi pu être le nom d'une variable ou une expression."
   ]
  },
  {
   "cell_type": "code",
   "execution_count": null,
   "metadata": {},
   "outputs": [],
   "source": [
    "% Exemple d'utilisation d'une fonction avec une expression en argument d'entrée\n",
    "a = -0.32;\n",
    "n = sin(2*a)"
   ]
  },
  {
   "cell_type": "markdown",
   "metadata": {},
   "source": [
    "Dans cet exemple, l'expression `2*a` a d'abord été évaluée, puis le résultat passé en argument d'entrée à la fonction `sin`. Celle-ci a alors évalué puis renvoyé le résultat.\n",
    "\n",
    "Afin de simplifier l'utilisation des fonctions et d'améliorer l'efficacité du code, de nombreuses fonctions scalaires sont **vectorisées**. Cela signifie qu’elles peuvent recevoir une matrice ou un vecteur au lieu d'un scalaire en argument d'entrée, et qu'elles renverront alors un résultat de mêmes dimensions en argument de sortie. Les éléments de celui-ci sont le résultat de l'application de la fonction à tous les éléments de l'argument d'entrée."
   ]
  },
  {
   "cell_type": "code",
   "execution_count": null,
   "metadata": {},
   "outputs": [],
   "source": [
    "% Exemple d'utilisation d'une fonction scalaire avec un argument d'entrée sous forme de vecteur\n",
    "a = 0:6\n",
    "n = sin(a)"
   ]
  },
  {
   "cell_type": "markdown",
   "metadata": {},
   "source": [
    "Certaines fonctions acceptent ou nécessitent **plusieurs arguments d’entrée** séparés par des virgules `,`, indépendamment de leurs tailles (scalaires, vecteurs, matrices). "
   ]
  },
  {
   "cell_type": "code",
   "execution_count": null,
   "metadata": {},
   "outputs": [],
   "source": [
    "% Exemple d'utilisation d'une fonction à plusieurs arguments d'entrée\n",
    "u = linspace(0,10,6) "
   ]
  },
  {
   "cell_type": "markdown",
   "metadata": {},
   "source": [
    "Certaines fonctions sont capables de renvoyer **plusieurs arguments de sortie**, c’est-à-dire plus d’un résultat. Dans ce cas les multiples arguments de sortie sont entourés par des crochets `[]` et séparés par des virgules `,`."
   ]
  },
  {
   "cell_type": "code",
   "execution_count": null,
   "metadata": {},
   "outputs": [],
   "source": [
    "% Exemple d'utilisation d'une fonction à plusieurs arguments de sortie\n",
    "[m,k] = max(n)"
   ]
  },
  {
   "cell_type": "markdown",
   "metadata": {},
   "source": [
    "Si un seul argument de sortie est demandé à la fonction `max` (le nom d’une variable à gauche du signe égal `=`), seule la valeur du maximum est retournée. Mais si deux arguments de sortie lui sont demandés, le second est l’indice de l’élément (dans le vecteur d'entrée) dont la valeur est le maximum.\n",
    "\n",
    "La possibilité ou non de renvoyer plusieurs arguments de sortie dépend des fonctions, et ne peut être déterminée qu’en consultant la documentation de la fonction. Ce qu’il est important de retenir, c’est que c’est l’*ordre des variables* qui détermine la signification des résultats renvoyés, et non leurs noms."
   ]
  },
  {
   "cell_type": "code",
   "execution_count": null,
   "metadata": {},
   "outputs": [],
   "source": [
    "% Exemple d'utilisation d'une fonction à plusieurs arguments de sortie, en inversant les noms des variables\n",
    "[k,m] = max(n)"
   ]
  },
  {
   "cell_type": "markdown",
   "metadata": {},
   "source": [
    "Pour la fonction `max`, c’est toujours le premier argument de sortie qui reçoit la valeur du maximum et le second son indice. \n",
    "\n",
    "Ne confondez pas le nombre des arguments de sortie avec leurs dimensions : une fonction peut très bien ne renvoyer qu’un seul argument, mais qui est un vecteur ou une matrice dont les\n",
    "éléments pourraient donc être interprétés comme \"plusieurs résultats\" (par exemple la fonction `sin` avec un argument d'entrée sous forme de vecteur, voir ci-dessus). "
   ]
  },
  {
   "cell_type": "markdown",
   "metadata": {},
   "source": [
    "Un très grand nombre de fonctions sont disponibles, couvrant de nombreux domaines du calcul numérique et de l'ingénierie. En pratique il est impossible de se souvenir de tous les noms des fonctions disponibles, ni de la nature et du type des arguments de chacune d'elle. Il existe heureusement **un système d’aide et de recherche** très complet qui peut être utilisé grâce à quelques commandes particulières.\n",
    "\n",
    "Si vous connaissez le nom d'une fonction dont vous cherchez la description et le mode d'emploi, utilisez la commande `help` suivie du nom de la fonction."
   ]
  },
  {
   "cell_type": "code",
   "execution_count": null,
   "metadata": {},
   "outputs": [],
   "source": [
    "% Exemple d'affichage de la description et du mode d'emploi d'une fonction\n",
    "help interp1"
   ]
  },
  {
   "cell_type": "markdown",
   "metadata": {},
   "source": [
    "Si vous n'êtes pas certain(e) du nom de la fonction adéquate, vous pouvez faire une recherche par mot-clé à l'aide de la commande `lookfor` (puis affiner en utilisant la commande `help` pour une des propositions obtenues)."
   ]
  },
  {
   "cell_type": "code",
   "execution_count": null,
   "metadata": {},
   "outputs": [],
   "source": [
    "% Exemple de recherche d'une fonction par mot-clé\n",
    "lookfor covariance"
   ]
  },
  {
   "cell_type": "markdown",
   "metadata": {},
   "source": [
    "Vous pouvez également consulter le [système d’aide en ligne de Matlab](https://fr.mathworks.com/help/matlab/)."
   ]
  },
  {
   "cell_type": "markdown",
   "metadata": {},
   "source": [
    "# Tracer des graphiques\n",
    "\n",
    "Lorsque les données sont nombreuses, il est souvent plus efficace de les représenter graphiquement que sous forme de tableau de valeurs numériques. La fonction de base pour tracer des\n",
    "courbes est `plot`. Elle peut être utilisée avec un nombre d'arguments variable pour tracer une seule ou plusieurs séries de données, choisir les styles de courbes, marqueurs, leurs couleurs, etc. "
   ]
  },
  {
   "cell_type": "code",
   "execution_count": null,
   "metadata": {},
   "outputs": [],
   "source": [
    "% Exemple de graphique simple\n",
    "x = linspace(0, 2*pi);\n",
    "y = sin(x);\n",
    "plot(x,y)"
   ]
  },
  {
   "cell_type": "markdown",
   "metadata": {},
   "source": [
    "Un troisième argument (sous forme d'une chaîne de caractères) permet de préciser explicitement le format de la courbe : la couleur, le type de trait, et les marqueurs affichés en chacun des points (chaque caractéristique est optionnelle)"
   ]
  },
  {
   "cell_type": "code",
   "execution_count": null,
   "metadata": {},
   "outputs": [],
   "source": [
    "% Exemple de spécification du format de la série de données\n",
    "plot(x,y,\"r:o\")"
   ]
  },
  {
   "cell_type": "markdown",
   "metadata": {},
   "source": [
    "Dans cet exemple, `r` signifie : tracer en rouge (red), `:` signifie : tracer la ligne en pointillés, et `o` signifie : tracer des marqueurs en forme de cercles.\n",
    "Tapez `help plot` pour afficher toutes les options disponibles.\n",
    "\n",
    "Pour tracer plusieurs courbes sur un même graphique, il suffit de fournir à la fonction `plot` autant de couples (abscisses, ordonnées) que nécessaire, ou de triplets (abscisses, ordonnées, format)."
   ]
  },
  {
   "cell_type": "code",
   "execution_count": null,
   "metadata": {},
   "outputs": [],
   "source": [
    "% Exemple d'affichage de plusieurs courbes sur un même graphique\n",
    "y2 = cos(x);\n",
    "plot(x,y,x,y2,\"r+\")"
   ]
  },
  {
   "cell_type": "markdown",
   "metadata": {},
   "source": [
    "Une autre façon d'obtenir le même résultat consiste à appeler plusieurs fois la fonction `plot` (un appel pour chaque série de données à tracer), mais en utilisant les commandes `hold on` et `hold off` qui permettent de \"maintenir\" la fenêtre graphique entre les appels à la fonction `plot`."
   ]
  },
  {
   "cell_type": "code",
   "execution_count": null,
   "metadata": {},
   "outputs": [],
   "source": [
    "% Exemple d'affichage de plusieurs courbes sur un même graphique en utilisant les commandes \"hold on\" et \"hold off\"\n",
    "plot(x,y)\n",
    "hold on\n",
    "plot(x,y2,\"r+\")\n",
    "hold off"
   ]
  },
  {
   "cell_type": "markdown",
   "metadata": {},
   "source": [
    "Pour comprendre à quoi servent les commandes `hold on` et `hold off` : supprimez-les (ou commentez-les) et exécutez à nouveau le code. Le graphique affiché est alors celui de la dernière fonction `plot` seule, qui a remplacé la précédente."
   ]
  },
  {
   "cell_type": "markdown",
   "metadata": {},
   "source": [
    "Pour un graphique destiné à une publication (y compris un compte-rendu ou un rapport), il est *indispensable* d'ajouter des titres sur les axes des abscisses et des ordonnées, une légende s'il y a plusieurs courbes, et éventuellement un titre général. Les fonctions à utiliser sont respectivement `xlabel`, `ylabel`, `legend`, et `title`."
   ]
  },
  {
   "cell_type": "code",
   "execution_count": null,
   "metadata": {},
   "outputs": [],
   "source": [
    "% Exemple d'affichage de titres et légende sur un graphique\n",
    "plot(x,y,x,y2,\"r+\")\n",
    "xlabel('Angle (rad)')\n",
    "ylabel('Fonctions sinusoidales (sans dimension)')\n",
    "legend('Sinus', 'Cosinus')\n",
    "title('Comparaison de fonctions')"
   ]
  },
  {
   "cell_type": "markdown",
   "metadata": {},
   "source": [
    "Note : ce Notebook Jupyter *ne permet pas* d'utiliser des lettres accentuées ni autres signes diacritiques dans les titres et légendes des graphiques (en inclure génère des avertissements et un affichage érroné).\n",
    "\n",
    "Au lieu de tracer plusieurs courbes dans un même système d'axes qui remplit la fenêtre graphique, il est possible de tracer plusieurs systèmes d'axes dans une même fenêtre graphique grâce à la fonction `subplot`."
   ]
  },
  {
   "cell_type": "code",
   "execution_count": null,
   "metadata": {},
   "outputs": [],
   "source": [
    "% Exemple d'affichage de plusieurs graphiques dans une même fenêtre grâce à la fonction \"subplot\"\n",
    "subplot(2,1,1)\n",
    "plot(x,y)\n",
    "subplot(2,1,2)\n",
    "plot(x,y2,\"r+\")"
   ]
  },
  {
   "cell_type": "markdown",
   "metadata": {},
   "source": [
    "La commande `subplot` divise la fenêtre en une sorte de matrice de graphiques. Les deux premiers arguments (2 et 1 dans cet exemple) sont les nombres de lignes et de\n",
    "colonnes, le dernier est l'indice du graphique où s'affichera le résultat du prochain plot. Cet indice augmente de gauche à droite puis de bas en haut.\n",
    "\n",
    "Pour ajouter des titres et légendes à chaque graphique, les appels aux fonctions `xlabel`, `ylabel`, `legend`, et `title` doivent être placés après chaque `plot` et avant le `subplot` suivant."
   ]
  },
  {
   "cell_type": "markdown",
   "metadata": {},
   "source": [
    "Parfois, les ordonnées des données à tracer forment les colonnes d’une matrice, tandis que les abscisses sont disponibles sous forme d’un vecteur (comme dans les cas précédents) car elles sont identiques pour toutes les séries de données. Dans ce cas la fonction `plot` ne reçoit que deux arguments, mais plusieurs courbes sont tracées : une pour chaque colonne de la matrice des ordonnées."
   ]
  },
  {
   "cell_type": "code",
   "execution_count": null,
   "metadata": {},
   "outputs": [],
   "source": [
    "% Exemple d'affichage de plusieurs courbes sur un même graphique par utilisation d'une matrice d'ordonnées\n",
    "y = [sin(x)' cos(x)']; % Formation d'une matrice à 2 colonnes par concaténation de 2 vecteurs lignes transposés\n",
    "plot(x,y)\n",
    "size(y) % Le nombre de colonnes de la matrice est le nombre de courbes tracées"
   ]
  },
  {
   "cell_type": "markdown",
   "metadata": {},
   "source": [
    "La fonction `plot` interprète toujours chaque colonne de la matrice comme une série de données. Le résultat obtenu en transposant la matrice est donc très différent."
   ]
  },
  {
   "cell_type": "code",
   "execution_count": null,
   "metadata": {},
   "outputs": [],
   "source": [
    "% Exemple d'affichage de plusieurs courbes sur un même graphique après transposition de la matrice d'ordonnées\n",
    "plot(0:1, y')\n",
    "size(y') % Le nombre de colonnes de la matrice est le nombre de courbes tracées"
   ]
  }
 ],
 "metadata": {
  "kernelspec": {
   "display_name": "Octave",
   "language": "octave",
   "name": "octave"
  },
  "language_info": {
   "file_extension": ".m",
   "help_links": [
    {
     "text": "GNU Octave",
     "url": "https://www.gnu.org/software/octave/support.html"
    },
    {
     "text": "Octave Kernel",
     "url": "https://github.com/Calysto/octave_kernel"
    },
    {
     "text": "MetaKernel Magics",
     "url": "https://metakernel.readthedocs.io/en/latest/source/README.html"
    }
   ],
   "mimetype": "text/x-octave",
   "name": "octave",
   "version": "4.2.2"
  }
 },
 "nbformat": 4,
 "nbformat_minor": 4
}
