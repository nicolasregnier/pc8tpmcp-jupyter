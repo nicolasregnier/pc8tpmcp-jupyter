{
 "cells": [
  {
   "cell_type": "markdown",
   "metadata": {},
   "source": [
    "[PC8TPMCP](https://moodle.bordeaux-inp.fr/course/view.php?id=4&section=5) Travaux pratiques Modélisation et Conduite des Procédés $\\bullet$ ENSCBP - Bordeaux INP $\\bullet$ [Nicolas Régnier](mailto:nicolas.regnier@enscbp.fr)\n",
    "\n",
    "***\n",
    "\n",
    "**À lire en premier**\n",
    "\n",
    "Vous venez d'ouvrir un \"Notebook Jupyter\" ! Si c'est la première fois $\\rightarrow$ consultez le [Tutoriel Jupyter](_tutoriel-jupyter.ipynb).\n",
    "<br>Les exemples qui suivent font appel à des `fonctions Matlab`. Chaque fois que vous avez besoin d'aide $\\rightarrow$ consultez le [Guide des fonctions Matlab](_guide-fonctions.ipynb).\n",
    "\n",
    "***"
   ]
  },
  {
   "cell_type": "markdown",
   "metadata": {},
   "source": [
    "# TP MCP > Exemple de flux de travail\n",
    "\n",
    "Ce Notebook a pour seule utilité de vérifier que les outils utilisés pour les travaux pratiques à distance vous sont accessibles, et il vous permettra aussi de vous familiariser avec le flux de travail qui vous sera demandé. Cette étape est facultative et ne sera pas évaluée.\n",
    "\n",
    "Il vous suffit de suivre les instructions ci-dessous."
   ]
  },
  {
   "cell_type": "markdown",
   "metadata": {},
   "source": [
    "## Exécution de code Matlab/Octave\n",
    "Exécutez le code de la cellule ci-dessous. Si vous ne savez pas comment faire : lisez les commentaires que contient la cellule, et/ou consultez le [Mini tutoriel](_mini-tutoriel.ipynb).\n",
    "\n",
    "Résultat attendu : graphe de la fonction sinus sur l'intervalle $[0, 2\\pi]$."
   ]
  },
  {
   "cell_type": "code",
   "execution_count": null,
   "metadata": {},
   "outputs": [],
   "source": [
    "%   1) cliquez dans cette cellule pour la sélectionner.\n",
    "%   2) cliquez sur 'Run' dans la barre d'outil pour exécuter le code que contient la cellule et afficher le résultat.\n",
    "\n",
    "x = linspace (0, 2*pi);\n",
    "y = sin(x);\n",
    "plot(x,y)"
   ]
  },
  {
   "cell_type": "markdown",
   "metadata": {},
   "source": [
    "## Écriture de code Matlab/Octave\n",
    "\n",
    "Dans la cellule ci-dessous : \n",
    "\n",
    "1. Écrivez le code permettant d'ajustez les paramètres d'un polynôme du 3ème degré aux données (x,y), à l'aide de la fonction `polyfit`. Affichez les valeurs des coefficients du polynôme (pour cela, il suffit de ne pas mettre de point-virgule à la fin de la ligne).\n",
    "2. Évaluez les valeurs yp de ce polynôme pour les valeurs du vecteur x, à l'aide de la fonction `polyval`. \n",
    "3. Enfin, tracez sur un même graphique les séries de données (x,y) et (x,yp).\n",
    "\n",
    "Si vous ne savez pas utiliser les fonctions citées, consultez le [Guide des fonctions Matlab](_guide-matlab.ipynb) et/ou l'[aide en ligne de Matlab](https://fr.mathworks.com/help/matlab/) (tapez le nom de la fonction dans le champ de recherche)."
   ]
  },
  {
   "cell_type": "code",
   "execution_count": null,
   "metadata": {},
   "outputs": [],
   "source": [
    "% Complétez ou réécrivez les lignes suivantes (sans les commentaires !)\n",
    "% p = polyfit(...)\n",
    "% yp = polyval(...);\n",
    "% plot(...);"
   ]
  },
  {
   "cell_type": "markdown",
   "metadata": {},
   "source": [
    "## Ajout d'une cellule et écriture de texte\n",
    "\n",
    "1. À la suite de cette cellule, ajoutez-en une autre : pour cela, cliquez sur cette cellule pour la sélectionner, puis cliquez sur le bouton `Insert a cell below`![Image](images/insert.png) en haut de la page.\n",
    "\n",
    "Par défaut, cette nouvelle cellule est au format \"Code\", ce qui signifie que vous pouvez y écrire du code Matlab/Octave et l'exécuter. Pour écrire du texte, il faut changer le format de la cellule en \"Markdown\" (qui est un langage très simple de mise en forme du texte).\n",
    "\n",
    "2. Cliquez sur la cellule que vous venez d'ajouter, et changez son format de \"Code\" à \"Markdown\" à l'aide du menu déroulant en haut de la page.\n",
    "3. Tapez un commentaire quelconque dans cette cellule (par exemple pour dire que représenter une fonction sinusoïdale à l'aide d'un polynôme n'est pas très judicieux...), puis exécutez-là (comme une cellule de code) pour réaliser sa mise en forme. Pour la modifier à nouveau, double-cliquez dans la cellule.\n",
    "\n",
    "Dans une cellule au format \"Markdown\", vous pouvez facilement réaliser des mises en forme simples (texte en gras, listes numérotées, etc.). À titre d'exemple, vous pouvez double-cliquer les cellules qui contiennent les instructions que vous lisez en ce moment pour voir comment elles sont formatées. Pour en savoir plus : dans le menu `Help`, cliquez sur `Markdown Reference`.\n"
   ]
  },
  {
   "cell_type": "markdown",
   "metadata": {},
   "source": [
    "## Exportation au format PDF\n",
    "\n",
    "1. Dans le menu `File`, cliquez sur `Export Notebook As..` puis sur `Export Notebook to PDF`.\n",
    "2. Enregistrez le fichier généré.\n",
    "3. Retournez sur [la page du cours Moodle](https://moodle.bordeaux-inp.fr/course/view.php?id=4&section=5) et déposez votre fichier PDF dans \"Remise de devoirs exemples (non évalués)\".\n",
    "\n",
    "C'est terminé !"
   ]
  },
  {
   "cell_type": "markdown",
   "metadata": {},
   "source": [
    "## Si vous rencontrez des problèmes\n",
    "\n",
    "Pour des questions ou remarques générales, vous pouvez écrire un message sur le forum de la [la page du cours Moodle](https://moodle.bordeaux-inp.fr/course/view.php?id=4&section=5).\n",
    "\n",
    "Si vous souhaitez me signaler des problèmes particuliers, par exemple techniques, vous pouvez me contacter par courriel : [nicolas.regnier@enscbp.fr](mailto:nicolas.regnier@enscbp.fr)"
   ]
  }
 ],
 "metadata": {
  "kernelspec": {
   "display_name": "Octave",
   "language": "octave",
   "name": "octave"
  },
  "language_info": {
   "file_extension": ".m",
   "help_links": [
    {
     "text": "GNU Octave",
     "url": "https://www.gnu.org/software/octave/support.html"
    },
    {
     "text": "Octave Kernel",
     "url": "https://github.com/Calysto/octave_kernel"
    },
    {
     "text": "MetaKernel Magics",
     "url": "https://metakernel.readthedocs.io/en/latest/source/README.html"
    }
   ],
   "mimetype": "text/x-octave",
   "name": "octave",
   "version": "4.2.2"
  }
 },
 "nbformat": 4,
 "nbformat_minor": 4
}
